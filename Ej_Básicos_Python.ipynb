{
  "nbformat": 4,
  "nbformat_minor": 0,
  "metadata": {
    "colab": {
      "name": "Untitled0.ipynb",
      "provenance": [],
      "collapsed_sections": [],
      "authorship_tag": "ABX9TyNRqCOC8kp76DDXRfSr7EPV",
      "include_colab_link": true
    },
    "kernelspec": {
      "name": "python3",
      "display_name": "Python 3"
    },
    "language_info": {
      "name": "python"
    }
  },
  "cells": [
    {
      "cell_type": "markdown",
      "metadata": {
        "id": "view-in-github",
        "colab_type": "text"
      },
      "source": [
        "<a href=\"https://colab.research.google.com/github/lluviaeliiza/Mineria-de-Datos/blob/main/Ej_B%C3%A1sicos_Python.ipynb\" target=\"_parent\"><img src=\"https://colab.research.google.com/assets/colab-badge.svg\" alt=\"Open In Colab\"/></a>"
      ]
    },
    {
      "cell_type": "markdown",
      "metadata": {
        "id": "py8IydJk2zbh"
      },
      "source": [
        "## ***Ejercicios Básicos de Python***"
      ]
    },
    {
      "cell_type": "markdown",
      "metadata": {
        "id": "HbQshfsF3E1_"
      },
      "source": [
        "## Ejercicio 1:\n",
        "\n",
        "* Realiza una variable con tu matricula y realiza una secuencia de imprimir con tu nombre y tu matricula concatenados."
      ]
    },
    {
      "cell_type": "code",
      "metadata": {
        "colab": {
          "base_uri": "https://localhost:8080/"
        },
        "id": "9EEabmL33duV",
        "outputId": "163c407a-2849-404d-b77a-1508ce73fcdf"
      },
      "source": [
        "mat=1821636\n",
        "print(\"Alumna Lluvia Elizabeth Aviles con matricula\",mat)"
      ],
      "execution_count": null,
      "outputs": [
        {
          "output_type": "stream",
          "text": [
            "Alumna Lluvia Elizabeth Aviles con matricula 1821636\n"
          ],
          "name": "stdout"
        }
      ]
    },
    {
      "cell_type": "markdown",
      "metadata": {
        "id": "I7hIx7x76kmn"
      },
      "source": [
        "## Ejercicio 2:\n",
        "* Pidiendo el input del usuario pide dos números y crea una pequeña calculadora con los operadores básicos de suma, resta, multiplicación, división, y exponente"
      ]
    },
    {
      "cell_type": "code",
      "metadata": {
        "colab": {
          "base_uri": "https://localhost:8080/"
        },
        "id": "Lmsb1kHY6v5a",
        "outputId": "3f40427d-8f5f-4778-add4-8e0d792bfebc"
      },
      "source": [
        "num1=int(input(\"Ingresar el primer número: \"))\n",
        "num2=int(input(\"Ingresar el segundo número: \"))\n",
        "print(\"  \")\n",
        "print(\"Operaciones básicas:\")\n",
        "print(num1,\"+\",num2,\"=\",num1+num2)\n",
        "print(num1,\"-\",num2,\"=\",num1-num2)\n",
        "print(num1,\"*\",num2,\"=\",num1*num2)\n",
        "print(num1,\"/\",num2,\"=\",num1/num2)\n",
        "print(num1,\"^\",num2,\"=\",num1**num2)"
      ],
      "execution_count": 16,
      "outputs": [
        {
          "output_type": "stream",
          "text": [
            "Ingresar el primer número: 6\n",
            "Ingresar el segundo número: 3\n",
            "  \n",
            "Operaciones básicas:\n",
            "6 + 3 = 9\n",
            "6 - 3 = 3\n",
            "6 * 3 = 18\n",
            "6 / 3 = 2.0\n",
            "6 ^ 3 = 216\n"
          ],
          "name": "stdout"
        }
      ]
    },
    {
      "cell_type": "markdown",
      "metadata": {
        "id": "FGZKBibo9_zV"
      },
      "source": [
        "## Ejercicio 3:\n",
        "\n",
        "* Con loop while o for, realiza una lista de 10 numeros multiplos de 3, y después realiza una función de loop que sume todos los números dentro del arreglo."
      ]
    },
    {
      "cell_type": "code",
      "metadata": {
        "colab": {
          "base_uri": "https://localhost:8080/"
        },
        "id": "0Oyz_G_uMHXH",
        "outputId": "11ed73dd-eb4b-4d3d-bd1d-c668e69a12d9"
      },
      "source": [
        "print(\"Dado el intervalo de 0 a 30, los 10 núm multiplos de 3 son: \")\n",
        "# se creó un contador para los valores y otro para guardarlos.\n",
        "i=0\n",
        "j=0\n",
        "#se creó un bucle donde el contador del valor(i) tiene que ser menor a  30,\n",
        "#cuando se cumpla esta condicion, al valor se le agregaran 3 unidades y este\n",
        "#\"nuevo\" valor se guardará en un contador (j).\n",
        "\n",
        "while i<30:\n",
        "  i=i+3\n",
        "  j=j+i\n",
        "  print(i)\n",
        "#los valores acumulados se pasaron a una \"lista\", se creo una fn para asi poder \n",
        "#sumar todos los elementos de esa lista.\n",
        "ssa=[j]\n",
        "def sumar(ssa):\n",
        "  suma=0\n",
        "  for elemento in ssa:\n",
        "    suma+=elemento\n",
        "    return suma\n",
        "print(\" \") \n",
        "print(\"La suma de los 10 elementos es: \",sumar(ssa))\n"
      ],
      "execution_count": null,
      "outputs": [
        {
          "output_type": "stream",
          "text": [
            "Dado el intervalo de 0 a 30, los 10 núm multiplos de 3 son: \n",
            "3\n",
            "6\n",
            "9\n",
            "12\n",
            "15\n",
            "18\n",
            "21\n",
            "24\n",
            "27\n",
            "30\n",
            " \n",
            "La suma de los 10 elementos es:  165\n"
          ],
          "name": "stdout"
        }
      ]
    },
    {
      "cell_type": "markdown",
      "metadata": {
        "id": "VCvlelkeQroF"
      },
      "source": [
        "## Ejercicio 4:\n",
        "\n",
        "*  Con una función de if else, revisar si un número es par o es impar.\n",
        "*  Con una función de if else, revisar si un número es primo o no."
      ]
    },
    {
      "cell_type": "code",
      "metadata": {
        "id": "tspxtwIRQ2rA",
        "colab": {
          "base_uri": "https://localhost:8080/"
        },
        "outputId": "b4d12013-6b9a-41c6-8207-1e0303cb5f6e"
      },
      "source": [
        "#Revisar si el número es par o impar:\n",
        "xpar=int(input(\"Ingresar número para revisar si es par o impar: \"))\n",
        "if (xpar%2==0):\n",
        "  print(\"El número es par\")\n",
        "else:\n",
        "    print(\"El número es impar\")\n",
        "\n",
        "#Revisar si el número es primo o no:\n",
        "xpri=int(input(\"Ingresar número para revisar si es primo o no: \"))\n",
        "def primo(xpri):\n",
        "  contador=0\n",
        "  resultado=True\n",
        "  for i in range(1,xpri+1):\n",
        "    if (xpri%i==0):\n",
        "      contador+=1\n",
        "    if (contador>2):\n",
        "      resultado=False\n",
        "      break\n",
        "  return resultado\n",
        "if (primo(xpri)==True):\n",
        "    print(\"El número es primo\")\n",
        "else:\n",
        "    print(\"El número no es primo\")"
      ],
      "execution_count": 15,
      "outputs": [
        {
          "output_type": "stream",
          "text": [
            "Ingresar número para revisar si es par o impar: 9\n",
            "El número es impar\n",
            "Ingresar número para revisar si es primo o no: 4\n",
            "El número no es primo\n"
          ],
          "name": "stdout"
        }
      ]
    },
    {
      "cell_type": "markdown",
      "metadata": {
        "id": "feWRbxXPhsEY"
      },
      "source": [
        "## Ejercicio 5:\n",
        "* Utilizando diferentes clases en python, crea una calculadora con los operadores básicos de suma, resta, multiplicación, división, y exponente."
      ]
    },
    {
      "cell_type": "code",
      "metadata": {
        "id": "rKPIoNFCwGsT"
      },
      "source": [
        ""
      ],
      "execution_count": 7,
      "outputs": []
    },
    {
      "cell_type": "markdown",
      "metadata": {
        "id": "EJ-HHdyIxj2b"
      },
      "source": [
        "## ***Ejercicios con estructuras básicas de Python***"
      ]
    },
    {
      "cell_type": "markdown",
      "metadata": {
        "id": "MoZLvfFjxqwY"
      },
      "source": [
        "## **Tuplas**\n",
        "\n",
        "* Crear una variable flotante, integer, boleana y compleja e imprimir el tipo de variable que es.\n",
        "\n",
        "* Crear una tupla con valores enteros imprimir el primer y ultimo valor.\n",
        "\n",
        "* Añadir 3 valores de string a la tupla.\n",
        "\n",
        "* Verificar si una variable existe dentro de la tupla."
      ]
    },
    {
      "cell_type": "code",
      "metadata": {
        "id": "087XjIyu1dMZ",
        "colab": {
          "base_uri": "https://localhost:8080/"
        },
        "outputId": "94c3af86-e8a8-49b7-f12c-c57d96d48a55"
      },
      "source": [
        "#1\n",
        "a = 3.81\n",
        "b = 9\n",
        "c = False\n",
        "d = 2j + 5\n",
        "print(\"La variable a es de tipo: \", type (a))\n",
        "print(\"La variable b es de tipo: \", type (b))\n",
        "print(\"La variable c es de tipo: \", type (c))\n",
        "print(\"La variable d es de tipo: \", type (d))"
      ],
      "execution_count": 6,
      "outputs": [
        {
          "output_type": "stream",
          "text": [
            "La variable a es de tipo:  <class 'float'>\n",
            "La variable b es de tipo:  <class 'int'>\n",
            "La variable c es de tipo:  <class 'bool'>\n",
            "La variable d es de tipo:  <class 'complex'>\n"
          ],
          "name": "stdout"
        }
      ]
    },
    {
      "cell_type": "code",
      "metadata": {
        "colab": {
          "base_uri": "https://localhost:8080/"
        },
        "id": "AWEzlxK44S2u",
        "outputId": "89ac19eb-8cc3-4f6d-dacb-b2b4427e9ba1"
      },
      "source": [
        "#2\n",
        "tup = (1,2,3,4,5)\n",
        "print(\"El primer valor de la tupla es:\",tup[0], \"y el último es:\",tup[4],\"\\n\")"
      ],
      "execution_count": 14,
      "outputs": [
        {
          "output_type": "stream",
          "text": [
            "El primer valor de la tupla es: 1 y el último es: 5 \n",
            "\n"
          ],
          "name": "stdout"
        }
      ]
    },
    {
      "cell_type": "code",
      "metadata": {
        "id": "josMlRK01mVJ",
        "colab": {
          "base_uri": "https://localhost:8080/"
        },
        "outputId": "074a0e21-4b22-4c39-a2dd-7f2fd9750606"
      },
      "source": [
        "#3\n",
        "x=list(tup)\n",
        "x.append(\"azul\")\n",
        "x.append(\"rojo\")\n",
        "x.append(\"verde\")\n",
        "tup=tuple(x)\n",
        "print(tup)"
      ],
      "execution_count": 9,
      "outputs": [
        {
          "output_type": "stream",
          "text": [
            "(1, 2, 3, 4, 5, 'azul', 'rojo', 'verde', 'azul', 'rojo', 'verde')\n"
          ],
          "name": "stdout"
        }
      ]
    },
    {
      "cell_type": "code",
      "metadata": {
        "colab": {
          "base_uri": "https://localhost:8080/"
        },
        "id": "YwULtklR2LG4",
        "outputId": "20fb0971-a5c7-4509-b7ce-2f1bba49a236"
      },
      "source": [
        "#4\n",
        "t=(1, 2, 3, 4, 5, 6)\n",
        "print(\"¿El 8 está en la tupla?\", 8 in t)\n",
        "print(\"¿El 2 está en la tupla?\", 2 in t)"
      ],
      "execution_count": 8,
      "outputs": [
        {
          "output_type": "stream",
          "text": [
            "¿El 8 está en la tupla? False\n",
            "¿El 2 está en la tupla? True\n"
          ],
          "name": "stdout"
        }
      ]
    },
    {
      "cell_type": "markdown",
      "metadata": {
        "id": "6ggMLbAp4u_S"
      },
      "source": [
        "## **Listas**\n",
        "* Crear una lista con 40 elementos aleatorios enteros.\n",
        "\n",
        "* Con una funcion (def) crear dos listas nuevas a partir de la lista creada por numeros aleatorios, en la cual en una esten los elementos pares, y en la otra los elementos impares.\n",
        "\n",
        "* Crear dos variables con la longitud de ambas listas nuevas e imprimir las variables.\n",
        "\n",
        "* Ordenar los elementos de la lista par de mayor a menor, y los de la lista impar de menor a mayor.\n",
        "\n",
        "* Utilizar al menos cuatro de las funciones de listas en python en la lista original de 40 elementos."
      ]
    },
    {
      "cell_type": "code",
      "metadata": {
        "colab": {
          "base_uri": "https://localhost:8080/"
        },
        "id": "nQ2Ycz-l5BnY",
        "outputId": "8d2116bc-fad1-47d5-a9b1-c7b494d9754c"
      },
      "source": [
        "#1\n",
        "import random as r\n",
        "import os\n",
        "lista = []\n",
        "i=0\n",
        "while i < 40:\n",
        "    intervalo = r.randint (0,100)\n",
        "    lista.append(intervalo)\n",
        "    i = i+1\n",
        "print(\"lista: \",lista)"
      ],
      "execution_count": 22,
      "outputs": [
        {
          "output_type": "stream",
          "text": [
            "lista:  [10, 64, 2, 54, 47, 40, 61, 71, 5, 34, 4, 30, 54, 9, 80, 78, 15, 88, 93, 2, 88, 28, 76, 32, 30, 25, 12, 3, 20, 60, 39, 48, 0, 66, 1, 84, 54, 90, 32, 57]\n"
          ],
          "name": "stdout"
        }
      ]
    },
    {
      "cell_type": "code",
      "metadata": {
        "id": "yQL55bju6N07"
      },
      "source": [
        "#2\n",
        "pares = []\n",
        "impares = []\n"
      ],
      "execution_count": 73,
      "outputs": []
    },
    {
      "cell_type": "markdown",
      "metadata": {
        "id": "wXMgQZi_707L"
      },
      "source": [
        "## **Diccionarios**\n",
        "\n",
        "* Crear un diccionario de 6 personas que conozcas con su primer nombre y su edad.\n",
        "\n",
        "* Crear una lista con los valores de la edad y reacomodar la lista de menor a mayor valor.\n",
        "\n",
        "* Usando el diccionario y un loop, imprimir solo los nombres.\n",
        "\n",
        "* Añadir dos personas nuevas a tu diccionario, incluyendo edad."
      ]
    },
    {
      "cell_type": "code",
      "metadata": {
        "colab": {
          "base_uri": "https://localhost:8080/"
        },
        "id": "zKpmG8vF8Cvo",
        "outputId": "d9d58d34-266c-46b6-dfc9-fb1c07aaaa2f"
      },
      "source": [
        "#1\n",
        "dicc={'Juan':17,'Karla':34,'Jorge':19,'Gael':40,'Fabián':26,'Carolina':30}\n",
        "print(\"Diccionario: \",dicc)"
      ],
      "execution_count": 35,
      "outputs": [
        {
          "output_type": "stream",
          "text": [
            "Diccionario:  {'Juan': 17, 'Karla': 34, 'Jorge': 19, 'Gael': 40, 'Fabián': 26, 'Carolina': 30}\n"
          ],
          "name": "stdout"
        }
      ]
    },
    {
      "cell_type": "code",
      "metadata": {
        "colab": {
          "base_uri": "https://localhost:8080/"
        },
        "id": "C6OziM6a86pa",
        "outputId": "4cff8b8e-1af8-4cf7-e777-71384c3f9ba2"
      },
      "source": [
        "#2\n",
        "Edad = sorted(list(dicc.values()))\n",
        "print(Edad)"
      ],
      "execution_count": 32,
      "outputs": [
        {
          "output_type": "stream",
          "text": [
            "[17, 19, 26, 30, 34, 40]\n"
          ],
          "name": "stdout"
        }
      ]
    },
    {
      "cell_type": "code",
      "metadata": {
        "colab": {
          "base_uri": "https://localhost:8080/"
        },
        "id": "axzjyan09Um5",
        "outputId": "ea4e210e-797a-42c3-dd85-4277e5d73ff2"
      },
      "source": [
        "#3\n",
        "for i in dicc:\n",
        "    print(i)"
      ],
      "execution_count": 36,
      "outputs": [
        {
          "output_type": "stream",
          "text": [
            "Juan\n",
            "Karla\n",
            "Jorge\n",
            "Gael\n",
            "Fabián\n",
            "Carolina\n"
          ],
          "name": "stdout"
        }
      ]
    },
    {
      "cell_type": "code",
      "metadata": {
        "colab": {
          "base_uri": "https://localhost:8080/"
        },
        "id": "U39KNpW49rTr",
        "outputId": "53182d21-c99a-4124-8a73-0a796be9097a"
      },
      "source": [
        "#4 \n",
        "dicc[\"Vanessa\"] = '24'\n",
        "dicc[\"Milton\"] = '43'\n",
        "print(\"\\nDiccionario modificado: \",dicc)"
      ],
      "execution_count": 37,
      "outputs": [
        {
          "output_type": "stream",
          "text": [
            "\n",
            "Diccionario modificado:  {'Juan': 17, 'Karla': 34, 'Jorge': 19, 'Gael': 40, 'Fabián': 26, 'Carolina': 30, 'Vanessa': '24', 'Milton': '43'}\n"
          ],
          "name": "stdout"
        }
      ]
    },
    {
      "cell_type": "markdown",
      "metadata": {
        "id": "1Fu0vMDv-Djv"
      },
      "source": [
        "## **Sets**\n",
        "\n",
        "* Crea un set con 100 numeros aleatorios enteros del 1 al 25.\n",
        "\n",
        "* Comprueba la longitud de tu set.\n",
        "\n",
        "* Crea una lista de 5 numeros aleatorios del 1 al 10 y comprueba si cada valor aparece en el set inicial."
      ]
    },
    {
      "cell_type": "code",
      "metadata": {
        "colab": {
          "base_uri": "https://localhost:8080/"
        },
        "id": "fIhhPE19-Log",
        "outputId": "7c48f608-cf00-4989-938f-0f041bd52dd1"
      },
      "source": [
        "#1\n",
        "import random as aleatorio\n",
        "L = []\n",
        "for i in range (0,100):\n",
        "    L.append(aleatorio.randint(1, 25))\n",
        "sett = set(L)\n",
        "print(\"Set aletorio: \", sett)"
      ],
      "execution_count": 59,
      "outputs": [
        {
          "output_type": "stream",
          "text": [
            "Set aletorio:  {1, 2, 3, 4, 5, 6, 7, 8, 9, 10, 11, 12, 13, 14, 15, 16, 17, 18, 19, 20, 21, 22, 23, 24, 25}\n"
          ],
          "name": "stdout"
        }
      ]
    },
    {
      "cell_type": "code",
      "metadata": {
        "colab": {
          "base_uri": "https://localhost:8080/"
        },
        "id": "tPdOk_-f_60S",
        "outputId": "103f557b-c1a0-483f-b8cf-a25035a6991f"
      },
      "source": [
        "#2\n",
        "print(\"La longuitud del set es: \",len(sett))"
      ],
      "execution_count": 76,
      "outputs": [
        {
          "output_type": "stream",
          "text": [
            "La longuitud del set es:  25\n"
          ],
          "name": "stdout"
        }
      ]
    }
  ]
}